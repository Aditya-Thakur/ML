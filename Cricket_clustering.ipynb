{
 "cells": [
  {
   "cell_type": "code",
   "execution_count": 150,
   "metadata": {},
   "outputs": [],
   "source": [
    "import numpy as np\n",
    "import pandas as pd\n",
    "import matplotlib.pyplot as plt\n",
    "%matplotlib inline"
   ]
  },
  {
   "cell_type": "code",
   "execution_count": 151,
   "metadata": {},
   "outputs": [],
   "source": [
    "ipl=pd.read_csv('T20Is - Batting.csv')\n",
    "pd.set_option('display.max_columns',200)\n"
   ]
  },
  {
   "cell_type": "code",
   "execution_count": 152,
   "metadata": {},
   "outputs": [
    {
     "data": {
      "text/html": [
       "<div>\n",
       "<style scoped>\n",
       "    .dataframe tbody tr th:only-of-type {\n",
       "        vertical-align: middle;\n",
       "    }\n",
       "\n",
       "    .dataframe tbody tr th {\n",
       "        vertical-align: top;\n",
       "    }\n",
       "\n",
       "    .dataframe thead th {\n",
       "        text-align: right;\n",
       "    }\n",
       "</style>\n",
       "<table border=\"1\" class=\"dataframe\">\n",
       "  <thead>\n",
       "    <tr style=\"text-align: right;\">\n",
       "      <th></th>\n",
       "      <th>Player</th>\n",
       "      <th>Career Span</th>\n",
       "      <th>Career Start</th>\n",
       "      <th>Career End</th>\n",
       "      <th>Matches Played</th>\n",
       "      <th>Innings Batted</th>\n",
       "      <th>Not Outs</th>\n",
       "      <th>Runs Scored</th>\n",
       "      <th>Highest Innings Score</th>\n",
       "      <th>Highest Innings Score Num</th>\n",
       "      <th>Batting Avg</th>\n",
       "      <th>Balls Faced</th>\n",
       "      <th>Batting Strike Rate</th>\n",
       "      <th>Hundreds Scored</th>\n",
       "      <th>Scores Of Fifty Or More</th>\n",
       "      <th>Ducks Scored</th>\n",
       "      <th>Boundary Fours</th>\n",
       "      <th>Boundary Sixes</th>\n",
       "      <th>Country</th>\n",
       "      <th>Player Count</th>\n",
       "      <th>1000+ Runs Scored</th>\n",
       "      <th>25+ Batting Avg</th>\n",
       "      <th>120+ Batting Strike Rate</th>\n",
       "    </tr>\n",
       "  </thead>\n",
       "  <tbody>\n",
       "    <tr>\n",
       "      <th>0</th>\n",
       "      <td>EJG Morgan (2009-2018)</td>\n",
       "      <td>2009-2018</td>\n",
       "      <td>2009.0</td>\n",
       "      <td>2018.0</td>\n",
       "      <td>72</td>\n",
       "      <td>70</td>\n",
       "      <td>14</td>\n",
       "      <td>1678</td>\n",
       "      <td>85*</td>\n",
       "      <td>85</td>\n",
       "      <td>29.96</td>\n",
       "      <td>1268</td>\n",
       "      <td>132.33</td>\n",
       "      <td>0</td>\n",
       "      <td>9</td>\n",
       "      <td>3</td>\n",
       "      <td>124</td>\n",
       "      <td>76</td>\n",
       "      <td>England</td>\n",
       "      <td>1</td>\n",
       "      <td>1</td>\n",
       "      <td>1</td>\n",
       "      <td>1</td>\n",
       "    </tr>\n",
       "    <tr>\n",
       "      <th>1</th>\n",
       "      <td>AD Hales (2011-2018)</td>\n",
       "      <td>2011-2018</td>\n",
       "      <td>2011.0</td>\n",
       "      <td>2018.0</td>\n",
       "      <td>52</td>\n",
       "      <td>52</td>\n",
       "      <td>6</td>\n",
       "      <td>1456</td>\n",
       "      <td>116*</td>\n",
       "      <td>116</td>\n",
       "      <td>31.65</td>\n",
       "      <td>1068</td>\n",
       "      <td>136.32</td>\n",
       "      <td>1</td>\n",
       "      <td>7</td>\n",
       "      <td>4</td>\n",
       "      <td>158</td>\n",
       "      <td>45</td>\n",
       "      <td>England</td>\n",
       "      <td>1</td>\n",
       "      <td>1</td>\n",
       "      <td>1</td>\n",
       "      <td>1</td>\n",
       "    </tr>\n",
       "  </tbody>\n",
       "</table>\n",
       "</div>"
      ],
      "text/plain": [
       "                   Player Career Span  Career Start  Career End  \\\n",
       "0  EJG Morgan (2009-2018)   2009-2018        2009.0      2018.0   \n",
       "1    AD Hales (2011-2018)   2011-2018        2011.0      2018.0   \n",
       "\n",
       "   Matches Played Innings Batted Not Outs Runs Scored Highest Innings Score  \\\n",
       "0              72             70       14        1678                   85*   \n",
       "1              52             52        6        1456                  116*   \n",
       "\n",
       "  Highest Innings Score Num Batting Avg Balls Faced Batting Strike Rate  \\\n",
       "0                        85       29.96        1268              132.33   \n",
       "1                       116       31.65        1068              136.32   \n",
       "\n",
       "  Hundreds Scored Scores Of Fifty Or More Ducks Scored Boundary Fours  \\\n",
       "0               0                       9            3            124   \n",
       "1               1                       7            4            158   \n",
       "\n",
       "  Boundary Sixes  Country  Player Count  1000+ Runs Scored  25+ Batting Avg  \\\n",
       "0             76  England             1                  1                1   \n",
       "1             45  England             1                  1                1   \n",
       "\n",
       "   120+ Batting Strike Rate  \n",
       "0                         1  \n",
       "1                         1  "
      ]
     },
     "execution_count": 152,
     "metadata": {},
     "output_type": "execute_result"
    }
   ],
   "source": [
    "ipl.head(2)\n"
   ]
  },
  {
   "cell_type": "code",
   "execution_count": 153,
   "metadata": {},
   "outputs": [],
   "source": [
    "mask1=ipl['Batting Avg']!='-'\n",
    "mask2=ipl['Batting Strike Rate']!='-'\n",
    "ipl=ipl[mask1 & mask2]"
   ]
  },
  {
   "cell_type": "code",
   "execution_count": 154,
   "metadata": {},
   "outputs": [],
   "source": [
    "ipl['Batting Strike Rate']=ipl['Batting Strike Rate'].astype('float')\n",
    "ipl['Batting Avg']=ipl['Batting Avg'].astype('float')\n",
    "ipl['Innings Batted']=ipl['Innings Batted'].astype('int')"
   ]
  },
  {
   "cell_type": "code",
   "execution_count": 155,
   "metadata": {},
   "outputs": [],
   "source": [
    "mask3=ipl['Batting Avg']>10\n",
    "mask4=ipl['Batting Strike Rate']>100\n",
    "mask5=ipl['Innings Batted']>10\n",
    "ipl=ipl[mask3&mask4&mask4]"
   ]
  },
  {
   "cell_type": "code",
   "execution_count": 156,
   "metadata": {},
   "outputs": [
    {
     "data": {
      "text/html": [
       "<div>\n",
       "<style scoped>\n",
       "    .dataframe tbody tr th:only-of-type {\n",
       "        vertical-align: middle;\n",
       "    }\n",
       "\n",
       "    .dataframe tbody tr th {\n",
       "        vertical-align: top;\n",
       "    }\n",
       "\n",
       "    .dataframe thead th {\n",
       "        text-align: right;\n",
       "    }\n",
       "</style>\n",
       "<table border=\"1\" class=\"dataframe\">\n",
       "  <thead>\n",
       "    <tr style=\"text-align: right;\">\n",
       "      <th></th>\n",
       "      <th>Batting Avg</th>\n",
       "      <th>Batting Strike Rate</th>\n",
       "    </tr>\n",
       "  </thead>\n",
       "  <tbody>\n",
       "    <tr>\n",
       "      <th>0</th>\n",
       "      <td>29.96</td>\n",
       "      <td>132.33</td>\n",
       "    </tr>\n",
       "    <tr>\n",
       "      <th>1</th>\n",
       "      <td>31.65</td>\n",
       "      <td>136.32</td>\n",
       "    </tr>\n",
       "    <tr>\n",
       "      <th>2</th>\n",
       "      <td>37.93</td>\n",
       "      <td>141.51</td>\n",
       "    </tr>\n",
       "    <tr>\n",
       "      <th>3</th>\n",
       "      <td>25.45</td>\n",
       "      <td>134.29</td>\n",
       "    </tr>\n",
       "    <tr>\n",
       "      <th>4</th>\n",
       "      <td>18.97</td>\n",
       "      <td>137.00</td>\n",
       "    </tr>\n",
       "  </tbody>\n",
       "</table>\n",
       "</div>"
      ],
      "text/plain": [
       "   Batting Avg  Batting Strike Rate\n",
       "0        29.96               132.33\n",
       "1        31.65               136.32\n",
       "2        37.93               141.51\n",
       "3        25.45               134.29\n",
       "4        18.97               137.00"
      ]
     },
     "execution_count": 156,
     "metadata": {},
     "output_type": "execute_result"
    }
   ],
   "source": [
    "ipl=ipl[['Batting Avg','Batting Strike Rate']]\n",
    "ipl.head()"
   ]
  },
  {
   "cell_type": "code",
   "execution_count": 157,
   "metadata": {},
   "outputs": [
    {
     "data": {
      "text/plain": [
       "(441, 2)"
      ]
     },
     "execution_count": 157,
     "metadata": {},
     "output_type": "execute_result"
    }
   ],
   "source": [
    "ipl.shape"
   ]
  },
  {
   "cell_type": "code",
   "execution_count": 158,
   "metadata": {},
   "outputs": [
    {
     "name": "stdout",
     "output_type": "stream",
     "text": [
      "<class 'pandas.core.frame.DataFrame'>\n",
      "Int64Index: 441 entries, 0 to 987\n",
      "Data columns (total 2 columns):\n",
      "Batting Avg            441 non-null float64\n",
      "Batting Strike Rate    441 non-null float64\n",
      "dtypes: float64(2)\n",
      "memory usage: 10.3 KB\n"
     ]
    }
   ],
   "source": [
    "ipl.info()"
   ]
  },
  {
   "cell_type": "code",
   "execution_count": 159,
   "metadata": {},
   "outputs": [
    {
     "data": {
      "text/plain": [
       "(441, 2)"
      ]
     },
     "execution_count": 159,
     "metadata": {},
     "output_type": "execute_result"
    }
   ],
   "source": [
    "\n",
    "ipl.shape"
   ]
  },
  {
   "cell_type": "code",
   "execution_count": 160,
   "metadata": {},
   "outputs": [
    {
     "data": {
      "text/plain": [
       "(441, 2)"
      ]
     },
     "execution_count": 160,
     "metadata": {},
     "output_type": "execute_result"
    }
   ],
   "source": [
    "X=ipl.iloc[:,:].values\n",
    "X.shape"
   ]
  },
  {
   "cell_type": "code",
   "execution_count": 161,
   "metadata": {},
   "outputs": [],
   "source": [
    "#we first need to know how many clustrers do we need\n",
    "from sklearn.cluster import KMeans\n",
    "wcss=[]\n",
    "for i in range(1,11):\n",
    "    km=KMeans(n_clusters=i)\n",
    "    km.fit(X)\n",
    "    wcss.append(km.inertia_)"
   ]
  },
  {
   "cell_type": "code",
   "execution_count": 162,
   "metadata": {},
   "outputs": [
    {
     "data": {
      "text/plain": [
       "[<matplotlib.lines.Line2D at 0x1211bae75c0>]"
      ]
     },
     "execution_count": 162,
     "metadata": {},
     "output_type": "execute_result"
    },
    {
     "data": {
      "image/png": "[encoded data removed]",
      "text/plain": [
       "<Figure size 432x288 with 1 Axes>"
      ]
     },
     "metadata": {},
     "output_type": "display_data"
    }
   ],
   "source": [
    "plt.plot(range(1,11),wcss)\n"
   ]
  },
  {
   "cell_type": "code",
   "execution_count": 163,
   "metadata": {},
   "outputs": [],
   "source": [
    "km=KMeans(n_clusters=6)\n",
    "y_means=km.fit_predict(X)"
   ]
  },
  {
   "cell_type": "code",
   "execution_count": 164,
   "metadata": {},
   "outputs": [
    {
     "data": {
      "text/plain": [
       "array([4, 2, 4, 2, 2, 4, 0, 0, 2, 3, 2, 0, 0, 4, 0, 2, 3, 0, 2, 3, 0, 4,\n",
       "       0, 0, 0, 0, 2, 0, 0, 4, 2, 0, 0, 3, 3, 3, 1, 3, 4, 1, 0, 0, 5, 0,\n",
       "       2, 2, 1, 1, 4, 0, 4, 3, 2, 0, 3, 2, 1, 4, 2, 3, 2, 3, 2, 4, 0, 3,\n",
       "       4, 2, 4, 4, 0, 1, 3, 3, 2, 2, 2, 2, 1, 0, 1, 2, 5, 2, 3, 2, 3, 5,\n",
       "       4, 2, 4, 4, 2, 4, 0, 4, 2, 4, 0, 2, 2, 3, 2, 4, 0, 4, 0, 0, 2, 3,\n",
       "       3, 0, 1, 1, 0, 0, 3, 3, 5, 3, 0, 0, 1, 5, 3, 0, 3, 3, 2, 0, 0, 0,\n",
       "       2, 0, 3, 0, 2, 0, 1, 2, 3, 3, 2, 3, 4, 0, 0, 0, 0, 0, 4, 3, 3, 3,\n",
       "       0, 3, 4, 4, 0, 0, 1, 0, 2, 0, 0, 2, 3, 2, 3, 0, 3, 1, 0, 3, 2, 3,\n",
       "       2, 3, 2, 0, 2, 0, 3, 4, 0, 0, 2, 3, 3, 3, 0, 3, 2, 2, 0, 3, 0, 4,\n",
       "       2, 2, 4, 2, 0, 0, 4, 4, 2, 3, 2, 0, 2, 0, 0, 3, 3, 0, 0, 4, 3, 3,\n",
       "       0, 4, 3, 0, 2, 2, 0, 0, 3, 0, 2, 0, 3, 4, 4, 3, 2, 0, 0, 2, 3, 2,\n",
       "       3, 3, 0, 3, 3, 2, 4, 3, 0, 2, 2, 3, 3, 3, 0, 0, 0, 2, 1, 1, 1, 3,\n",
       "       0, 4, 0, 0, 2, 2, 3, 0, 0, 0, 2, 0, 3, 3, 2, 2, 0, 0, 3, 0, 2, 0,\n",
       "       3, 3, 3, 3, 3, 0, 0, 0, 2, 0, 3, 2, 3, 0, 3, 3, 3, 3, 2, 3, 0, 3,\n",
       "       3, 2, 2, 0, 0, 0, 0, 0, 2, 3, 4, 3, 3, 2, 0, 0, 3, 3, 2, 0, 3, 0,\n",
       "       0, 3, 3, 4, 2, 0, 3, 1, 3, 4, 0, 0, 0, 0, 0, 0, 0, 2, 3, 0, 0, 0,\n",
       "       3, 2, 3, 0, 3, 3, 0, 0, 2, 3, 2, 2, 5, 0, 0, 3, 0, 3, 4, 0, 0, 0,\n",
       "       0, 0, 3, 2, 3, 0, 2, 3, 0, 0, 2, 3, 3, 0, 3, 1, 3, 3, 2, 3, 0, 0,\n",
       "       3, 4, 2, 4, 0, 3, 0, 3, 3, 3, 2, 0, 3, 0, 3, 3, 1, 2, 0, 0, 3, 0,\n",
       "       0, 2, 0, 3, 4, 2, 4, 2, 0, 3, 2, 3, 3, 3, 2, 0, 3, 0, 3, 3, 2, 3,\n",
       "       3])"
      ]
     },
     "execution_count": 164,
     "metadata": {},
     "output_type": "execute_result"
    }
   ],
   "source": [
    "y_means"
   ]
  },
  {
   "cell_type": "code",
   "execution_count": 166,
   "metadata": {},
   "outputs": [
    {
     "data": {
      "text/plain": [
       "<matplotlib.legend.Legend at 0x1211bc05d30>"
      ]
     },
     "execution_count": 166,
     "metadata": {},
     "output_type": "execute_result"
    },
    {
     "data": {
      "image/png": "[encoded data removed]",
      "text/plain": [
       "<Figure size 432x288 with 1 Axes>"
      ]
     },
     "metadata": {},
     "output_type": "display_data"
    }
   ],
   "source": [
    "plt.scatter(X[y_means==0,1],X[y_means==0,0],color='red',label='Cluster1')\n",
    "plt.scatter(X[y_means==1,1],X[y_means==1,0],color='green',label='Cluster2')\n",
    "plt.scatter(X[y_means==2,1],X[y_means==2,0],color='blue',label='Cluster3')\n",
    "plt.scatter(X[y_means==3,1],X[y_means==3,0],color='cyan',label='Cluster4')\n",
    "plt.scatter(X[y_means==4,1],X[y_means==4,0],color='yellow',label='Cluster5')\n",
    "plt.xlabel('Strike rate')\n",
    "plt.ylabel('Batting average')\n",
    "plt.legend()"
   ]
  },
  {
   "cell_type": "code",
   "execution_count": null,
   "metadata": {},
   "outputs": [],
   "source": []
  }
 ],
 "metadata": {
  "kernelspec": {
   "display_name": "Python 3",
   "language": "python",
   "name": "python3"
  },
  "language_info": {
   "codemirror_mode": {
    "name": "ipython",
    "version": 3
   },
   "file_extension": ".py",
   "mimetype": "text/x-python",
   "name": "python",
   "nbconvert_exporter": "python",
   "pygments_lexer": "ipython3",
   "version": "3.6.5"
  }
 },
 "nbformat": 4,
 "nbformat_minor": 2
}
